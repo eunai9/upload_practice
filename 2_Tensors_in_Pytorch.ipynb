{
 "cells": [
  {
   "cell_type": "markdown",
   "id": "296831e0",
   "metadata": {},
   "source": [
    "# Neural Networks\n",
    "## Tensor"
   ]
  },
  {
   "cell_type": "code",
   "execution_count": 1,
   "id": "b5f731bd",
   "metadata": {},
   "outputs": [],
   "source": [
    "import torch\n",
    "\n",
    "def activation(x):\n",
    "    \"\"\"Sigmoid activation function.\n",
    "\n",
    "    Arguments:\n",
    "    ---------\n",
    "    x: torch.Tensor\n",
    "    \"\"\"\n",
    "    return 1 / (1 + torch.exp(-x))"
   ]
  },
  {
   "cell_type": "code",
   "execution_count": 2,
   "id": "d2d1e7b8",
   "metadata": {},
   "outputs": [],
   "source": [
    "### Generate some data.\n",
    "torch.manual_seed(7)  # Set the random seed so things are predictable.\n",
    "\n",
    "# Features are 5 random normal variables.\n",
    "features = torch.randn((1, 5))\n",
    "# True weights for our data, random normal variables again.\n",
    "weights = torch.randn_like(features)\n",
    "# and a true bias term.\n",
    "bias = torch.randn((1, 1))\n"
   ]
  },
  {
   "cell_type": "code",
   "execution_count": 3,
   "id": "a501276d",
   "metadata": {},
   "outputs": [
    {
     "data": {
      "text/plain": [
       "torch.Size([1, 5])"
      ]
     },
     "execution_count": 3,
     "metadata": {},
     "output_type": "execute_result"
    }
   ],
   "source": [
    "weights.shape"
   ]
  },
  {
   "cell_type": "code",
   "execution_count": 4,
   "id": "3c4a99a1",
   "metadata": {},
   "outputs": [
    {
     "data": {
      "text/plain": [
       "tensor([[-1.9796]])"
      ]
     },
     "execution_count": 4,
     "metadata": {},
     "output_type": "execute_result"
    }
   ],
   "source": [
    "## Calculate the output of this network using the weights and bias tensors.\n",
    "features.shape #torch.Size([1, 5])\n",
    "weights.shape #torch.Size([1, 5])\n",
    "weights = weights.view(5, 1)\n",
    "torch.mm(features, weights)"
   ]
  },
  {
   "cell_type": "code",
   "execution_count": 5,
   "id": "29a29e5b",
   "metadata": {},
   "outputs": [],
   "source": [
    "### Generate some data.\n",
    "torch.manual_seed(7)  # Set the random seed so things are predictable.\n",
    "\n",
    "# Features are 3 random normal variables.\n",
    "features = torch.randn((1, 3))\n",
    "\n",
    "# Define the size of each layer in our network.\n",
    "n_input = features.shape[1]  # Number of input units, must match number of input features.\n",
    "n_hidden = 2  # Number of hidden units.\n",
    "n_output = 1  # Number of output units.\n",
    "\n",
    "# Weights for inputs to hidden layer.\n",
    "W1 = torch.randn(n_input, n_hidden)\n",
    "# Weights for hidden layer to output layer.\n",
    "W2 = torch.randn(n_hidden, n_output)\n",
    "\n",
    "# and bias terms for hidden and output layers.\n",
    "B1 = torch.randn((1, n_hidden))\n",
    "B2 = torch.randn((1, n_output))"
   ]
  },
  {
   "cell_type": "code",
   "execution_count": 6,
   "id": "e2a09089",
   "metadata": {},
   "outputs": [
    {
     "data": {
      "text/plain": [
       "tensor([[-1.1200]])"
      ]
     },
     "execution_count": 6,
     "metadata": {},
     "output_type": "execute_result"
    }
   ],
   "source": [
    "## Your solution here.\n",
    "hidden_features = torch.mm(features, W1) + B1\n",
    "torch.mm(hidden_features, W2) + B2"
   ]
  },
  {
   "cell_type": "code",
   "execution_count": 7,
   "id": "9f8b348f",
   "metadata": {},
   "outputs": [
    {
     "data": {
      "text/plain": [
       "tensor([[-0.1468,  0.7861,  0.9468]])"
      ]
     },
     "execution_count": 7,
     "metadata": {},
     "output_type": "execute_result"
    }
   ],
   "source": [
    "features"
   ]
  },
  {
   "cell_type": "markdown",
   "id": "45255c47",
   "metadata": {},
   "source": [
    "## Numpy to Torch and back"
   ]
  },
  {
   "cell_type": "code",
   "execution_count": 8,
   "id": "b2e26cc6",
   "metadata": {},
   "outputs": [
    {
     "data": {
      "text/plain": [
       "array([[0.48309241, 0.29614967, 0.75411352],\n",
       "       [0.69486168, 0.10217174, 0.73878238],\n",
       "       [0.20514574, 0.74813115, 0.88972418],\n",
       "       [0.1891552 , 0.3779942 , 0.10370971]])"
      ]
     },
     "execution_count": 8,
     "metadata": {},
     "output_type": "execute_result"
    }
   ],
   "source": [
    "import numpy as np\n",
    "\n",
    "np.set_printoptions(precision=8)\n",
    "a = np.random.rand(4, 3)\n",
    "a"
   ]
  },
  {
   "cell_type": "code",
   "execution_count": 9,
   "id": "03f7c6f8",
   "metadata": {},
   "outputs": [
    {
     "data": {
      "text/plain": [
       "tensor([[0.48309241, 0.29614967, 0.75411352],\n",
       "        [0.69486168, 0.10217174, 0.73878238],\n",
       "        [0.20514574, 0.74813115, 0.88972418],\n",
       "        [0.18915520, 0.37799420, 0.10370971]], dtype=torch.float64)"
      ]
     },
     "execution_count": 9,
     "metadata": {},
     "output_type": "execute_result"
    }
   ],
   "source": [
    "torch.set_printoptions(precision=8)\n",
    "b = torch.from_numpy(a)\n",
    "b"
   ]
  },
  {
   "cell_type": "code",
   "execution_count": 10,
   "id": "db5b927c",
   "metadata": {},
   "outputs": [
    {
     "data": {
      "text/plain": [
       "tensor([[0.96618482, 0.59229934, 1.50822704],\n",
       "        [1.38972335, 0.20434349, 1.47756476],\n",
       "        [0.41029147, 1.49626229, 1.77944836],\n",
       "        [0.37831040, 0.75598840, 0.20741942]], dtype=torch.float64)"
      ]
     },
     "execution_count": 10,
     "metadata": {},
     "output_type": "execute_result"
    }
   ],
   "source": [
    "# Multiply PyTorch Tensor by 2, in place.\n",
    "b.mul_(2)"
   ]
  },
  {
   "cell_type": "code",
   "execution_count": 11,
   "id": "db5f4707",
   "metadata": {},
   "outputs": [
    {
     "data": {
      "text/plain": [
       "array([[0.96618482, 0.59229934, 1.50822704],\n",
       "       [1.38972335, 0.20434349, 1.47756476],\n",
       "       [0.41029147, 1.49626229, 1.77944836],\n",
       "       [0.3783104 , 0.7559884 , 0.20741942]])"
      ]
     },
     "execution_count": 11,
     "metadata": {},
     "output_type": "execute_result"
    }
   ],
   "source": [
    "# Numpy array matches new values from Tensor.\n",
    "a"
   ]
  }
 ],
 "metadata": {
  "kernelspec": {
   "display_name": "Python (mlops)",
   "language": "python",
   "name": "mlops"
  },
  "language_info": {
   "codemirror_mode": {
    "name": "ipython",
    "version": 3
   },
   "file_extension": ".py",
   "mimetype": "text/x-python",
   "name": "python",
   "nbconvert_exporter": "python",
   "pygments_lexer": "ipython3",
   "version": "3.11.11"
  }
 },
 "nbformat": 4,
 "nbformat_minor": 5
}
